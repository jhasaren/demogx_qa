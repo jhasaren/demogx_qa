{
 "cells": [
  {
   "cell_type": "markdown",
   "metadata": {
    "application/vnd.databricks.v1+cell": {
     "cellMetadata": {
      "byteLimit": 2048000,
      "rowLimit": 10000
     },
     "inputWidgets": {},
     "nuid": "31e44197-060c-419b-809a-ef0ac69c4ab1",
     "showTitle": false,
     "title": ""
    }
   },
   "source": [
    "## Great Expectations - Calidad de Datos\n",
    "Descripción: Permite aplicar validaciones sobre un conjunto de datos usando el Framework GX<br />\n",
    "\n",
    "https://legacy.016.docs.greatexpectations.io/\n",
    "\n",
    "##### Autor: jhasaren | 24/Oct/2024"
   ]
  },
  {
   "cell_type": "markdown",
   "metadata": {
    "application/vnd.databricks.v1+cell": {
     "cellMetadata": {
      "byteLimit": 2048000,
      "rowLimit": 10000
     },
     "inputWidgets": {},
     "nuid": "d5ccfd1a-ab89-4d38-bdf6-246cda815a05",
     "showTitle": false,
     "title": ""
    }
   },
   "source": [
    "#### Instalación de Dependencias"
   ]
  },
  {
   "cell_type": "code",
   "execution_count": null,
   "metadata": {
    "application/vnd.databricks.v1+cell": {
     "cellMetadata": {
      "byteLimit": 2048000,
      "rowLimit": 10000
     },
     "inputWidgets": {},
     "nuid": "965e8ffe-bd39-46c2-806e-9382b9194a3a",
     "showTitle": false,
     "title": ""
    },
    "jupyter": {
     "outputs_hidden": true
    }
   },
   "outputs": [],
   "source": [
    "%pip install great-expectations==0.18.21\n",
    "%pip install pyspark"
   ]
  },
  {
   "cell_type": "markdown",
   "metadata": {
    "application/vnd.databricks.v1+cell": {
     "cellMetadata": {
      "byteLimit": 2048000,
      "rowLimit": 10000
     },
     "inputWidgets": {},
     "nuid": "072a9d34-e58b-4d62-aec8-0656a75224bb",
     "showTitle": false,
     "title": ""
    }
   },
   "source": [
    "### Importación de librerias"
   ]
  },
  {
   "cell_type": "code",
   "execution_count": null,
   "metadata": {
    "application/vnd.databricks.v1+cell": {
     "cellMetadata": {
      "byteLimit": 2048000,
      "rowLimit": 10000
     },
     "inputWidgets": {},
     "nuid": "42dc367e-0be6-4781-a0aa-8a5793227999",
     "showTitle": false,
     "title": ""
    }
   },
   "outputs": [],
   "source": [
    "# Librerias Generales\n",
    "# =======================================================\n",
    "import pandas as pd # type: ignore\n",
    "import numpy as np # type: ignore\n",
    "from datetime import date, datetime, timedelta\n",
    "import pytz # type: ignore\n",
    "import os\n",
    "import warnings\n",
    "import json\n",
    "warnings.filterwarnings(\"ignore\")\n",
    "\n",
    "# Librerías PySpark\n",
    "#=========================\n",
    "from pyspark.sql import SparkSession # type: ignore\n",
    "from pyspark.sql.functions import * # type: ignore\n",
    "from pyspark.sql.types import * # type: ignore\n",
    "\n",
    "# Crea sesión de Spark\n",
    "spark = SparkSession \\\n",
    "    .builder \\\n",
    "    .master(\"local\")\\\n",
    "    .appName(\"Python Spark\") \\\n",
    "    .getOrCreate()\n",
    "\n",
    "\n",
    "# Librerías GX - QA\n",
    "#=========================\n",
    "import great_expectations as gx # type: ignore\n",
    "from great_expectations.checkpoint import SimpleCheckpoint # type: ignore\n",
    "from great_expectations.render.renderer import ValidationResultsPageRenderer, ProfilingResultsPageRenderer # type: ignore\n",
    "from great_expectations.render.view import DefaultJinjaPageView # type: ignore\n",
    "from great_expectations.profile.basic_dataset_profiler import BasicDatasetProfiler # type: ignore\n",
    "from great_expectations.dataset.sparkdf_dataset import SparkDFDataset # type: ignore\n"
   ]
  },
  {
   "cell_type": "code",
   "execution_count": null,
   "metadata": {
    "application/vnd.databricks.v1+cell": {
     "cellMetadata": {
      "byteLimit": 2048000,
      "rowLimit": 10000
     },
     "inputWidgets": {},
     "nuid": "a205e76b-9372-4a60-87c9-5a905da6d3d4",
     "showTitle": false,
     "title": ""
    }
   },
   "outputs": [],
   "source": [
    "# Revisión de Versiones\n",
    "print('GX Version :'+gx.__version__)\n",
    "print('PySpark Version :'+spark.sparkContext.version)"
   ]
  },
  {
   "cell_type": "markdown",
   "metadata": {
    "application/vnd.databricks.v1+cell": {
     "cellMetadata": {
      "byteLimit": 2048000,
      "rowLimit": 10000
     },
     "inputWidgets": {},
     "nuid": "d19ef21c-34a1-4585-8948-d7c27cd280c2",
     "showTitle": false,
     "title": ""
    }
   },
   "source": [
    "### Definición de Funciones y Parámetros"
   ]
  },
  {
   "cell_type": "code",
   "execution_count": null,
   "metadata": {
    "application/vnd.databricks.v1+cell": {
     "cellMetadata": {
      "byteLimit": 2048000,
      "rowLimit": 10000
     },
     "inputWidgets": {},
     "nuid": "038a3630-184f-431d-8f79-67d078b7e055",
     "showTitle": false,
     "title": ""
    }
   },
   "outputs": [],
   "source": [
    "# Fecha Actual\n",
    "# ==================================================\n",
    "\n",
    "# Timezone (UTC-5)\n",
    "tzInfo = pytz.timezone('America/Bogota')\n",
    "\n",
    "timestamp = datetime.now(tz=tzInfo).strftime('%Y-%m-%d %H:%M:%S')\n",
    "today = datetime.now(tz=tzInfo).date().strftime('%Y%m%d')\n",
    "year = datetime.now(tz=tzInfo).date().strftime('%Y')\n",
    "month = datetime.now(tz=tzInfo).date().strftime('%m')\n",
    "hour = datetime.strptime(timestamp, '%Y-%m-%d %H:%M:%S')\n",
    "\n",
    "today\n"
   ]
  },
  {
   "cell_type": "code",
   "execution_count": 7,
   "metadata": {
    "application/vnd.databricks.v1+cell": {
     "cellMetadata": {
      "byteLimit": 2048000,
      "rowLimit": 10000
     },
     "inputWidgets": {},
     "nuid": "deaead5d-f6d8-4cd4-a83c-78e6a2fd8131",
     "showTitle": false,
     "title": ""
    }
   },
   "outputs": [],
   "source": [
    "# Configura directorio de GX\n",
    "# ==================================================\n",
    "\n",
    "# Asigna carpeta para el contexto\n",
    "context_root_dir = \"./qa_gx/clientes\"\n",
    "context = gx.get_context(context_root_dir=context_root_dir)\n",
    "\n",
    "# Configura el ID de ejecución\n",
    "run_id = {\n",
    "    \"run_name\": \"Ejecución QA - Clientes CRM\",\n",
    "    \"run_time\": datetime.now().strftime(\"%Y-%m-%d %H:%M:%S\")\n",
    "}\n"
   ]
  },
  {
   "cell_type": "markdown",
   "metadata": {
    "application/vnd.databricks.v1+cell": {
     "cellMetadata": {
      "byteLimit": 2048000,
      "rowLimit": 10000
     },
     "inputWidgets": {},
     "nuid": "4ea6abe6-03af-429e-ad6e-bea957850046",
     "showTitle": false,
     "title": ""
    }
   },
   "source": [
    "## Ingesta de datos"
   ]
  },
  {
   "cell_type": "markdown",
   "metadata": {
    "application/vnd.databricks.v1+cell": {
     "cellMetadata": {
      "byteLimit": 2048000,
      "rowLimit": 10000
     },
     "inputWidgets": {},
     "nuid": "f9143de6-971f-4800-9887-5821bf4037f5",
     "showTitle": false,
     "title": ""
    }
   },
   "source": [
    "#### Clientes CRM"
   ]
  },
  {
   "cell_type": "code",
   "execution_count": 8,
   "metadata": {
    "application/vnd.databricks.v1+cell": {
     "cellMetadata": {
      "byteLimit": 2048000,
      "rowLimit": 10000
     },
     "inputWidgets": {},
     "nuid": "b13ed3a5-3177-4941-911f-6cd109d6f20b",
     "showTitle": false,
     "title": ""
    }
   },
   "outputs": [],
   "source": [
    "# Lee BD Clientes\n",
    "\n",
    "clientes_crm = (spark.read.format(\"csv\")\n",
    "                .option(\"delimiter\", \",\")\n",
    "                .option(\"header\", \"True\")\n",
    "                .load(\"./qa_gx/clientes/CRM/BD_Clientes_CRM.csv\"))\\\n",
    "                .withColumn(\"TELEFONO\", col(\"TELEFONO\").cast(StringType()))"
   ]
  },
  {
   "cell_type": "code",
   "execution_count": null,
   "metadata": {
    "application/vnd.databricks.v1+cell": {
     "cellMetadata": {
      "byteLimit": 2048000,
      "rowLimit": 10000
     },
     "inputWidgets": {},
     "nuid": "aebe28fa-f7b0-4740-9437-10f4c732b373",
     "showTitle": false,
     "title": ""
    }
   },
   "outputs": [],
   "source": [
    "# Previsualización\n",
    "clientes_crm.show(50)"
   ]
  },
  {
   "cell_type": "markdown",
   "metadata": {},
   "source": [
    "#### Clientes ERP"
   ]
  },
  {
   "cell_type": "code",
   "execution_count": 10,
   "metadata": {},
   "outputs": [],
   "source": [
    "# Lee BD Clientes ERP\n",
    "\n",
    "clientes_erp = (spark.read.format(\"csv\")\n",
    "                .option(\"delimiter\", \",\")\n",
    "                .option(\"header\", \"True\")\n",
    "                .load(\"./qa_gx/clientes/ERP/BD_Clientes_ERP.csv\"))\\\n",
    "                .withColumn(\"TELEFONO_ERP\", col(\"TELEFONO_ERP\").cast(StringType()))"
   ]
  },
  {
   "cell_type": "code",
   "execution_count": null,
   "metadata": {},
   "outputs": [],
   "source": [
    "# Previsualización\n",
    "clientes_erp.show(50)"
   ]
  },
  {
   "cell_type": "markdown",
   "metadata": {
    "application/vnd.databricks.v1+cell": {
     "cellMetadata": {},
     "inputWidgets": {},
     "nuid": "8e7ea603-3d99-4d52-8cfa-396847b9fbe3",
     "showTitle": false,
     "title": ""
    }
   },
   "source": [
    "## Procesamiento"
   ]
  },
  {
   "cell_type": "code",
   "execution_count": null,
   "metadata": {},
   "outputs": [],
   "source": [
    "# Cruza las BD de Clientes por el ID del Cliente\n",
    "# =============================================================\n",
    "\n",
    "# Realiza un left join\n",
    "df_crm_erp = clientes_crm.join(clientes_erp, clientes_crm['ID_CLIENTE_CRM'] == clientes_erp['ID_UNICO_ERP'], how=\"left\")\n",
    "\n",
    "# Seleccionar y renombrar algunas columnas\n",
    "df_crm_erp = df_crm_erp.select(\n",
    "    df_crm_erp.ID_CLIENTE_CRM.alias(\"ID_CLIENTE_CRM\"),\n",
    "    df_crm_erp.NOMBRE_CLIENTE.alias(\"NOMBRE_CLIENTE_CRM\"),\n",
    "    df_crm_erp.TELEFONO.alias(\"TELEFONO_CRM\"),\n",
    "    df_crm_erp.EMAIL.alias(\"EMAIL_CRM\"),\n",
    "    df_crm_erp.NOMBRE_CLIENTE_ERP.alias(\"NOMBRE_CLIENTE_ERP\"),\n",
    "    df_crm_erp.TELEFONO_ERP.alias(\"TELEFONO_ERP\")\n",
    ")\n",
    "\n",
    "# Previsualización\n",
    "df_crm_erp.show(50)"
   ]
  },
  {
   "cell_type": "code",
   "execution_count": null,
   "metadata": {},
   "outputs": [],
   "source": [
    "df_crm_erp.count()"
   ]
  },
  {
   "cell_type": "code",
   "execution_count": null,
   "metadata": {},
   "outputs": [],
   "source": [
    "# Convertir el DataFrame de Spark a un DataFrame de Great Expectations\n",
    "# =============================================================\n",
    "\n",
    "df_ge = gx.dataset.SparkDFDataset(df_crm_erp)\n",
    "print(type(df_ge))\n"
   ]
  },
  {
   "cell_type": "markdown",
   "metadata": {},
   "source": [
    "#### Completitud\n",
    "\n",
    "Se evaluará si los campos obligatorios (nombre, dirección de correo electrónico, número de teléfono) están completos. Se espera que el 80% de los datos cumplan la característica."
   ]
  },
  {
   "cell_type": "code",
   "execution_count": 15,
   "metadata": {},
   "outputs": [],
   "source": [
    "# Expectativas para el conjunto de datos (Reglas de validación)\n",
    "# URL: https://greatexpectations.io/expectations/\n",
    "# =============================================================\n",
    "\n",
    "# Columnas no nulas, se tolera que máximo el 20% de los registros esten vacíos\n",
    "result_1 = df_ge.expect_column_values_to_not_be_null(\n",
    "    column=\"NOMBRE_CLIENTE_CRM\",\n",
    "    mostly=0.20,\n",
    "    meta={\"notes\": \"Tipo de Caracteristica: completitud\"}\n",
    ")\n",
    "\n",
    "# Columnas no nulas, se tolera que máximo el 20% de los registros esten vacíos\n",
    "result_2 = df_ge.expect_column_values_to_not_be_null(\n",
    "    column=\"TELEFONO_CRM\",\n",
    "    mostly=0.20,\n",
    "    meta={\"notes\": \"Tipo de Caracteristica: completitud\"}\n",
    ")\n",
    "\n",
    "# Columnas no nulas, se tolera que máximo el 20% de los registros esten vacíos\n",
    "result_3 = df_ge.expect_column_values_to_not_be_null(\n",
    "    column=\"EMAIL_CRM\",\n",
    "    mostly=0.20,\n",
    "    meta={\"notes\": \"Tipo de Caracteristica: completitud\"}\n",
    ")\n"
   ]
  },
  {
   "cell_type": "markdown",
   "metadata": {},
   "source": [
    "#### Exactitud (sintáctica)\n",
    "\n",
    "Se evaluará si las direcciones de correo electrónico y los números de teléfono siguen el formato adecuado. Se espera que el 90% de los datos cumplan la característica.\n",
    "\n",
    "<B>Cálculo para correos electrónicos:</B> Verificar que el formato del correo electrónico sea nombre@dominio.extensión<br>\n",
    "<B>Cálculo para teléfonos:</B> Verificar que los números de teléfono sigan el formato nacional (por ejemplo, 10 números sin espacios ni caracteres especiales y que inicien por 3)."
   ]
  },
  {
   "cell_type": "code",
   "execution_count": 16,
   "metadata": {},
   "outputs": [],
   "source": [
    "# Expectativas para el conjunto de datos (Reglas de validación)\n",
    "# URL: https://greatexpectations.io/expectations/\n",
    "# =============================================================\n",
    "\n",
    "# Se espera valores en la columna EMAIL tengan el formato nombre@dominio.extensión. \n",
    "# Se tolera que máximo el 10% no cumplan\n",
    "result_4 = df_ge.expect_column_values_to_match_regex(\n",
    "    column=\"EMAIL_CRM\", \n",
    "    regex=r'^[a-zA-Z0-9._%+-]+@[a-zA-Z0-9.-]+\\.[a-zA-Z]{2,}$',\n",
    "    mostly=0.10,\n",
    "    meta={\"notes\": \"Tipo de Caracteristica: exactitud sintáctica\"}\n",
    ")\n",
    "\n",
    "# Se espera valores en la columna TELEFONO tengan 10 números \n",
    "# sin espacios ni caracteres especiales y que inicien por 3. \n",
    "# Se tolera que máximo el 10% no cumplan\n",
    "result_5 = df_ge.expect_column_values_to_match_regex(\n",
    "    column=\"TELEFONO_CRM\", \n",
    "    regex=r'^3\\d{9}$',\n",
    "    mostly=0.10,\n",
    "    meta={\"notes\": \"Tipo de Caracteristica: exactitud sintáctica\"}\n",
    ")\n"
   ]
  },
  {
   "cell_type": "markdown",
   "metadata": {},
   "source": [
    "#### Consistencia\n",
    "\n",
    "Se evaluará si los números de teléfono almacenados en el sistema CRM coinciden con los números almacenados en el sistema ERP. Se espera que el 85% de los datos cumplan la característica."
   ]
  },
  {
   "cell_type": "code",
   "execution_count": 17,
   "metadata": {},
   "outputs": [],
   "source": [
    "# Expectativas para el conjunto de datos (Reglas de validación)\n",
    "# URL: https://greatexpectations.io/expectations/\n",
    "# =============================================================\n",
    "\n",
    "# Se espera que el TELEFONO sea igual en ambos sistemas. \n",
    "# Se espera que el 85% sean consistentes\n",
    "result_6 = df_ge.expect_column_pair_values_to_be_equal(\n",
    "    column_A=\"TELEFONO_CRM\",\n",
    "    column_B=\"TELEFONO_ERP\",\n",
    "    mostly=0.80,\n",
    "    meta={\"notes\": \"Tipo de Caracteristica: consistencia\"}\n",
    ")\n"
   ]
  },
  {
   "cell_type": "markdown",
   "metadata": {},
   "source": [
    "## Resultados"
   ]
  },
  {
   "cell_type": "code",
   "execution_count": null,
   "metadata": {},
   "outputs": [],
   "source": [
    "# Guardar las expectativas en la suite\n",
    "# =============================================================\n",
    "\n",
    "# Nombre de la Suite de Reglas\n",
    "suite_name = run_id['run_name']\n",
    "\n",
    "# Guardar las expectativas en un archivo JSON\n",
    "expectation_suite = df_ge.get_expectation_suite(suite_name)\n",
    "\n",
    "output_file_path = \"./qa_gx/clientes/Resultado/\"+today+\"_\"+expectation_suite['expectation_suite_name']+\".json\"\n",
    "\n",
    "# Abrir el archivo en modo escritura\n",
    "with open(output_file_path, 'w') as json_file:\n",
    "    # Escribir los datos en el archivo en formato JSON\n",
    "    json.dump(expectation_suite.to_json_dict(), json_file, indent=4)  # 'indent' para formatear con sangrías\n",
    "\n",
    "# Copiar el archivo JSON al proyecto gx para usos futuros\n",
    "os.popen(\"cp ./qa_gx/clientes/Resultado/\"+today+\"_\"+expectation_suite['expectation_suite_name']+\".json ./qa_gx/gx/expectations/\"+expectation_suite['expectation_suite_name']+\".json\")\n"
   ]
  },
  {
   "cell_type": "code",
   "execution_count": 19,
   "metadata": {},
   "outputs": [],
   "source": [
    "# Consolidación de Resultados\n",
    "# =============================================================\n",
    "\n",
    "# Validar el DataFrame completo\n",
    "validation_results = df_ge.validate(\n",
    "    run_id=run_id,  # Nombre del run o ejecución \n",
    ")\n",
    "\n",
    "# Imprimir resultados\n",
    "# print(validation_results)"
   ]
  },
  {
   "cell_type": "code",
   "execution_count": null,
   "metadata": {},
   "outputs": [],
   "source": [
    "# Renderizar el reporte\n",
    "renderer = ValidationResultsPageRenderer()\n",
    "rendered_content = renderer.render(validation_results)\n",
    "\n",
    "# Convertirlo en HTML\n",
    "html_content = DefaultJinjaPageView().render(rendered_content)\n",
    "\n",
    "# Guardar el archivo HTML\n",
    "output_path = \"./qa_gx/clientes/Resultado/\"+today+\"_qa_clientes_crm_1.html\"\n",
    "with open(output_path, \"w\") as file:\n",
    "    file.write(html_content)\n",
    "\n",
    "print(f\"Reporte guardado en {output_path}\")"
   ]
  }
 ],
 "metadata": {
  "application/vnd.databricks.v1+notebook": {
   "dashboards": [],
   "environmentMetadata": null,
   "language": "python",
   "notebookMetadata": {
    "mostRecentlyExecutedCommandWithImplicitDF": {
     "commandId": 271807052194211,
     "dataframes": [
      "_sqldf"
     ]
    },
    "pythonIndentUnit": 2
   },
   "notebookName": "02-QA_GX_Validations",
   "widgets": {
    "Ambiente": {
     "currentValue": "Desarrollo",
     "nuid": "9fccb712-c4ac-4236-b920-9ffb08f22197",
     "typedWidgetInfo": {
      "autoCreated": false,
      "defaultValue": "Desarrollo",
      "label": null,
      "name": "Ambiente",
      "options": {
       "choices": [
        "Desarrollo",
        "Produccion"
       ],
       "fixedDomain": true,
       "multiselect": false,
       "widgetDisplayType": "Dropdown"
      },
      "parameterDataType": "String"
     },
     "widgetInfo": {
      "defaultValue": "Desarrollo",
      "label": null,
      "name": "Ambiente",
      "options": {
       "autoCreated": null,
       "choices": [
        "Desarrollo",
        "Produccion"
       ],
       "widgetType": "dropdown"
      },
      "widgetType": "dropdown"
     }
    }
   }
  },
  "kernelspec": {
   "display_name": ".venv",
   "language": "python",
   "name": "python3"
  },
  "language_info": {
   "codemirror_mode": {
    "name": "ipython",
    "version": 3
   },
   "file_extension": ".py",
   "mimetype": "text/x-python",
   "name": "python",
   "nbconvert_exporter": "python",
   "pygments_lexer": "ipython3",
   "version": "3.12.3"
  }
 },
 "nbformat": 4,
 "nbformat_minor": 0
}
