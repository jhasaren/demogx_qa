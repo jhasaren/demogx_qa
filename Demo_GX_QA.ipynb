{
 "cells": [
  {
   "cell_type": "markdown",
   "metadata": {
    "application/vnd.databricks.v1+cell": {
     "cellMetadata": {
      "byteLimit": 2048000,
      "rowLimit": 10000
     },
     "inputWidgets": {},
     "nuid": "31e44197-060c-419b-809a-ef0ac69c4ab1",
     "showTitle": false,
     "title": ""
    }
   },
   "source": [
    "## Great Expectations - Calidad de Datos\n",
    "Descripción: Permite aplicar validaciones sobre un conjunto de datos usando el Framework GX<br />\n",
    "\n",
    "https://legacy.016.docs.greatexpectations.io/\n",
    "\n",
    "##### Autor: jhasaren | 24/Oct/2024"
   ]
  },
  {
   "cell_type": "markdown",
   "metadata": {
    "application/vnd.databricks.v1+cell": {
     "cellMetadata": {
      "byteLimit": 2048000,
      "rowLimit": 10000
     },
     "inputWidgets": {},
     "nuid": "d5ccfd1a-ab89-4d38-bdf6-246cda815a05",
     "showTitle": false,
     "title": ""
    }
   },
   "source": [
    "#### Instalación de Dependencias"
   ]
  },
  {
   "cell_type": "code",
   "execution_count": 2,
   "metadata": {
    "application/vnd.databricks.v1+cell": {
     "cellMetadata": {
      "byteLimit": 2048000,
      "rowLimit": 10000
     },
     "inputWidgets": {},
     "nuid": "965e8ffe-bd39-46c2-806e-9382b9194a3a",
     "showTitle": false,
     "title": ""
    },
    "jupyter": {
     "outputs_hidden": true
    }
   },
   "outputs": [
    {
     "name": "stdout",
     "output_type": "stream",
     "text": [
      "Requirement already satisfied: great-expectations==0.18.21 in /home/hp/Downloads/Notebooks/GX_DataQuality/.venv/lib/python3.12/site-packages (0.18.21)\n",
      "Requirement already satisfied: altair<5.0.0,>=4.2.1 in /home/hp/Downloads/Notebooks/GX_DataQuality/.venv/lib/python3.12/site-packages (from great-expectations==0.18.21) (4.2.2)\n",
      "Requirement already satisfied: Click>=7.1.2 in /home/hp/Downloads/Notebooks/GX_DataQuality/.venv/lib/python3.12/site-packages (from great-expectations==0.18.21) (8.1.7)\n",
      "Requirement already satisfied: colorama>=0.4.3 in /home/hp/Downloads/Notebooks/GX_DataQuality/.venv/lib/python3.12/site-packages (from great-expectations==0.18.21) (0.4.6)\n",
      "Requirement already satisfied: cryptography>=3.2 in /home/hp/Downloads/Notebooks/GX_DataQuality/.venv/lib/python3.12/site-packages (from great-expectations==0.18.21) (43.0.0)\n",
      "Requirement already satisfied: Ipython>=7.16.3 in /home/hp/Downloads/Notebooks/GX_DataQuality/.venv/lib/python3.12/site-packages (from great-expectations==0.18.21) (8.27.0)\n",
      "Requirement already satisfied: ipywidgets>=7.5.1 in /home/hp/Downloads/Notebooks/GX_DataQuality/.venv/lib/python3.12/site-packages (from great-expectations==0.18.21) (8.1.5)\n",
      "Requirement already satisfied: jinja2>=2.10 in /home/hp/Downloads/Notebooks/GX_DataQuality/.venv/lib/python3.12/site-packages (from great-expectations==0.18.21) (3.1.4)\n",
      "Requirement already satisfied: jsonpatch>=1.22 in /home/hp/Downloads/Notebooks/GX_DataQuality/.venv/lib/python3.12/site-packages (from great-expectations==0.18.21) (1.33)\n",
      "Requirement already satisfied: jsonschema>=2.5.1 in /home/hp/Downloads/Notebooks/GX_DataQuality/.venv/lib/python3.12/site-packages (from great-expectations==0.18.21) (4.23.0)\n",
      "Requirement already satisfied: makefun<2,>=1.7.0 in /home/hp/Downloads/Notebooks/GX_DataQuality/.venv/lib/python3.12/site-packages (from great-expectations==0.18.21) (1.15.4)\n",
      "Requirement already satisfied: marshmallow<4.0.0,>=3.7.1 in /home/hp/Downloads/Notebooks/GX_DataQuality/.venv/lib/python3.12/site-packages (from great-expectations==0.18.21) (3.22.0)\n",
      "Requirement already satisfied: mistune>=0.8.4 in /home/hp/Downloads/Notebooks/GX_DataQuality/.venv/lib/python3.12/site-packages (from great-expectations==0.18.21) (3.0.2)\n",
      "Requirement already satisfied: nbformat>=5.0 in /home/hp/Downloads/Notebooks/GX_DataQuality/.venv/lib/python3.12/site-packages (from great-expectations==0.18.21) (5.10.4)\n",
      "Requirement already satisfied: notebook>=6.4.10 in /home/hp/Downloads/Notebooks/GX_DataQuality/.venv/lib/python3.12/site-packages (from great-expectations==0.18.21) (7.2.2)\n",
      "Requirement already satisfied: packaging in /home/hp/Downloads/Notebooks/GX_DataQuality/.venv/lib/python3.12/site-packages (from great-expectations==0.18.21) (24.1)\n",
      "Requirement already satisfied: pydantic>=1.9.2 in /home/hp/Downloads/Notebooks/GX_DataQuality/.venv/lib/python3.12/site-packages (from great-expectations==0.18.21) (2.8.2)\n",
      "Requirement already satisfied: pyparsing>=2.4 in /home/hp/Downloads/Notebooks/GX_DataQuality/.venv/lib/python3.12/site-packages (from great-expectations==0.18.21) (3.1.4)\n",
      "Requirement already satisfied: python-dateutil>=2.8.1 in /home/hp/Downloads/Notebooks/GX_DataQuality/.venv/lib/python3.12/site-packages (from great-expectations==0.18.21) (2.9.0.post0)\n",
      "Requirement already satisfied: pytz>=2021.3 in /home/hp/Downloads/Notebooks/GX_DataQuality/.venv/lib/python3.12/site-packages (from great-expectations==0.18.21) (2024.1)\n",
      "Requirement already satisfied: requests>=2.20 in /home/hp/Downloads/Notebooks/GX_DataQuality/.venv/lib/python3.12/site-packages (from great-expectations==0.18.21) (2.32.3)\n",
      "Requirement already satisfied: ruamel.yaml<0.18,>=0.16 in /home/hp/Downloads/Notebooks/GX_DataQuality/.venv/lib/python3.12/site-packages (from great-expectations==0.18.21) (0.17.40)\n",
      "Requirement already satisfied: scipy>=1.6.0 in /home/hp/Downloads/Notebooks/GX_DataQuality/.venv/lib/python3.12/site-packages (from great-expectations==0.18.21) (1.14.1)\n",
      "Requirement already satisfied: tqdm>=4.59.0 in /home/hp/Downloads/Notebooks/GX_DataQuality/.venv/lib/python3.12/site-packages (from great-expectations==0.18.21) (4.66.5)\n",
      "Requirement already satisfied: typing-extensions>=3.10.0.0 in /home/hp/Downloads/Notebooks/GX_DataQuality/.venv/lib/python3.12/site-packages (from great-expectations==0.18.21) (4.12.2)\n",
      "Requirement already satisfied: tzlocal>=1.2 in /home/hp/Downloads/Notebooks/GX_DataQuality/.venv/lib/python3.12/site-packages (from great-expectations==0.18.21) (5.2)\n",
      "Requirement already satisfied: urllib3>=1.26 in /home/hp/Downloads/Notebooks/GX_DataQuality/.venv/lib/python3.12/site-packages (from great-expectations==0.18.21) (2.2.2)\n",
      "Requirement already satisfied: numpy<2.0.0,>=1.22.4 in /home/hp/Downloads/Notebooks/GX_DataQuality/.venv/lib/python3.12/site-packages (from great-expectations==0.18.21) (1.26.4)\n",
      "Requirement already satisfied: pandas>=1.3.0 in /home/hp/Downloads/Notebooks/GX_DataQuality/.venv/lib/python3.12/site-packages (from great-expectations==0.18.21) (2.2.2)\n",
      "Requirement already satisfied: entrypoints in /home/hp/Downloads/Notebooks/GX_DataQuality/.venv/lib/python3.12/site-packages (from altair<5.0.0,>=4.2.1->great-expectations==0.18.21) (0.4)\n",
      "Requirement already satisfied: toolz in /home/hp/Downloads/Notebooks/GX_DataQuality/.venv/lib/python3.12/site-packages (from altair<5.0.0,>=4.2.1->great-expectations==0.18.21) (0.12.1)\n",
      "Requirement already satisfied: cffi>=1.12 in /home/hp/Downloads/Notebooks/GX_DataQuality/.venv/lib/python3.12/site-packages (from cryptography>=3.2->great-expectations==0.18.21) (1.17.0)\n",
      "Requirement already satisfied: decorator in /home/hp/Downloads/Notebooks/GX_DataQuality/.venv/lib/python3.12/site-packages (from Ipython>=7.16.3->great-expectations==0.18.21) (5.1.1)\n",
      "Requirement already satisfied: jedi>=0.16 in /home/hp/Downloads/Notebooks/GX_DataQuality/.venv/lib/python3.12/site-packages (from Ipython>=7.16.3->great-expectations==0.18.21) (0.19.1)\n",
      "Requirement already satisfied: matplotlib-inline in /home/hp/Downloads/Notebooks/GX_DataQuality/.venv/lib/python3.12/site-packages (from Ipython>=7.16.3->great-expectations==0.18.21) (0.1.7)\n",
      "Requirement already satisfied: prompt-toolkit<3.1.0,>=3.0.41 in /home/hp/Downloads/Notebooks/GX_DataQuality/.venv/lib/python3.12/site-packages (from Ipython>=7.16.3->great-expectations==0.18.21) (3.0.47)\n",
      "Requirement already satisfied: pygments>=2.4.0 in /home/hp/Downloads/Notebooks/GX_DataQuality/.venv/lib/python3.12/site-packages (from Ipython>=7.16.3->great-expectations==0.18.21) (2.18.0)\n",
      "Requirement already satisfied: stack-data in /home/hp/Downloads/Notebooks/GX_DataQuality/.venv/lib/python3.12/site-packages (from Ipython>=7.16.3->great-expectations==0.18.21) (0.6.3)\n",
      "Requirement already satisfied: traitlets>=5.13.0 in /home/hp/Downloads/Notebooks/GX_DataQuality/.venv/lib/python3.12/site-packages (from Ipython>=7.16.3->great-expectations==0.18.21) (5.14.3)\n",
      "Requirement already satisfied: pexpect>4.3 in /home/hp/Downloads/Notebooks/GX_DataQuality/.venv/lib/python3.12/site-packages (from Ipython>=7.16.3->great-expectations==0.18.21) (4.9.0)\n",
      "Requirement already satisfied: comm>=0.1.3 in /home/hp/Downloads/Notebooks/GX_DataQuality/.venv/lib/python3.12/site-packages (from ipywidgets>=7.5.1->great-expectations==0.18.21) (0.2.2)\n",
      "Requirement already satisfied: widgetsnbextension~=4.0.12 in /home/hp/Downloads/Notebooks/GX_DataQuality/.venv/lib/python3.12/site-packages (from ipywidgets>=7.5.1->great-expectations==0.18.21) (4.0.13)\n",
      "Requirement already satisfied: jupyterlab-widgets~=3.0.12 in /home/hp/Downloads/Notebooks/GX_DataQuality/.venv/lib/python3.12/site-packages (from ipywidgets>=7.5.1->great-expectations==0.18.21) (3.0.13)\n",
      "Requirement already satisfied: MarkupSafe>=2.0 in /home/hp/Downloads/Notebooks/GX_DataQuality/.venv/lib/python3.12/site-packages (from jinja2>=2.10->great-expectations==0.18.21) (2.1.5)\n",
      "Requirement already satisfied: jsonpointer>=1.9 in /home/hp/Downloads/Notebooks/GX_DataQuality/.venv/lib/python3.12/site-packages (from jsonpatch>=1.22->great-expectations==0.18.21) (3.0.0)\n",
      "Requirement already satisfied: attrs>=22.2.0 in /home/hp/Downloads/Notebooks/GX_DataQuality/.venv/lib/python3.12/site-packages (from jsonschema>=2.5.1->great-expectations==0.18.21) (24.2.0)\n",
      "Requirement already satisfied: jsonschema-specifications>=2023.03.6 in /home/hp/Downloads/Notebooks/GX_DataQuality/.venv/lib/python3.12/site-packages (from jsonschema>=2.5.1->great-expectations==0.18.21) (2023.12.1)\n",
      "Requirement already satisfied: referencing>=0.28.4 in /home/hp/Downloads/Notebooks/GX_DataQuality/.venv/lib/python3.12/site-packages (from jsonschema>=2.5.1->great-expectations==0.18.21) (0.35.1)\n",
      "Requirement already satisfied: rpds-py>=0.7.1 in /home/hp/Downloads/Notebooks/GX_DataQuality/.venv/lib/python3.12/site-packages (from jsonschema>=2.5.1->great-expectations==0.18.21) (0.20.0)\n",
      "Requirement already satisfied: fastjsonschema>=2.15 in /home/hp/Downloads/Notebooks/GX_DataQuality/.venv/lib/python3.12/site-packages (from nbformat>=5.0->great-expectations==0.18.21) (2.20.0)\n",
      "Requirement already satisfied: jupyter-core!=5.0.*,>=4.12 in /home/hp/Downloads/Notebooks/GX_DataQuality/.venv/lib/python3.12/site-packages (from nbformat>=5.0->great-expectations==0.18.21) (5.7.2)\n",
      "Requirement already satisfied: jupyter-server<3,>=2.4.0 in /home/hp/Downloads/Notebooks/GX_DataQuality/.venv/lib/python3.12/site-packages (from notebook>=6.4.10->great-expectations==0.18.21) (2.14.2)\n",
      "Requirement already satisfied: jupyterlab-server<3,>=2.27.1 in /home/hp/Downloads/Notebooks/GX_DataQuality/.venv/lib/python3.12/site-packages (from notebook>=6.4.10->great-expectations==0.18.21) (2.27.3)\n",
      "Requirement already satisfied: jupyterlab<4.3,>=4.2.0 in /home/hp/Downloads/Notebooks/GX_DataQuality/.venv/lib/python3.12/site-packages (from notebook>=6.4.10->great-expectations==0.18.21) (4.2.5)\n",
      "Requirement already satisfied: notebook-shim<0.3,>=0.2 in /home/hp/Downloads/Notebooks/GX_DataQuality/.venv/lib/python3.12/site-packages (from notebook>=6.4.10->great-expectations==0.18.21) (0.2.4)\n",
      "Requirement already satisfied: tornado>=6.2.0 in /home/hp/Downloads/Notebooks/GX_DataQuality/.venv/lib/python3.12/site-packages (from notebook>=6.4.10->great-expectations==0.18.21) (6.4.1)\n",
      "Requirement already satisfied: tzdata>=2022.7 in /home/hp/Downloads/Notebooks/GX_DataQuality/.venv/lib/python3.12/site-packages (from pandas>=1.3.0->great-expectations==0.18.21) (2024.1)\n",
      "Requirement already satisfied: annotated-types>=0.4.0 in /home/hp/Downloads/Notebooks/GX_DataQuality/.venv/lib/python3.12/site-packages (from pydantic>=1.9.2->great-expectations==0.18.21) (0.7.0)\n",
      "Requirement already satisfied: pydantic-core==2.20.1 in /home/hp/Downloads/Notebooks/GX_DataQuality/.venv/lib/python3.12/site-packages (from pydantic>=1.9.2->great-expectations==0.18.21) (2.20.1)\n",
      "Requirement already satisfied: six>=1.5 in /home/hp/Downloads/Notebooks/GX_DataQuality/.venv/lib/python3.12/site-packages (from python-dateutil>=2.8.1->great-expectations==0.18.21) (1.16.0)\n",
      "Requirement already satisfied: charset-normalizer<4,>=2 in /home/hp/Downloads/Notebooks/GX_DataQuality/.venv/lib/python3.12/site-packages (from requests>=2.20->great-expectations==0.18.21) (3.3.2)\n",
      "Requirement already satisfied: idna<4,>=2.5 in /home/hp/Downloads/Notebooks/GX_DataQuality/.venv/lib/python3.12/site-packages (from requests>=2.20->great-expectations==0.18.21) (3.8)\n",
      "Requirement already satisfied: certifi>=2017.4.17 in /home/hp/Downloads/Notebooks/GX_DataQuality/.venv/lib/python3.12/site-packages (from requests>=2.20->great-expectations==0.18.21) (2024.8.30)\n",
      "Requirement already satisfied: ruamel.yaml.clib>=0.2.7 in /home/hp/Downloads/Notebooks/GX_DataQuality/.venv/lib/python3.12/site-packages (from ruamel.yaml<0.18,>=0.16->great-expectations==0.18.21) (0.2.8)\n",
      "Requirement already satisfied: pycparser in /home/hp/Downloads/Notebooks/GX_DataQuality/.venv/lib/python3.12/site-packages (from cffi>=1.12->cryptography>=3.2->great-expectations==0.18.21) (2.22)\n",
      "Requirement already satisfied: parso<0.9.0,>=0.8.3 in /home/hp/Downloads/Notebooks/GX_DataQuality/.venv/lib/python3.12/site-packages (from jedi>=0.16->Ipython>=7.16.3->great-expectations==0.18.21) (0.8.4)\n",
      "Requirement already satisfied: platformdirs>=2.5 in /home/hp/Downloads/Notebooks/GX_DataQuality/.venv/lib/python3.12/site-packages (from jupyter-core!=5.0.*,>=4.12->nbformat>=5.0->great-expectations==0.18.21) (4.2.2)\n",
      "Requirement already satisfied: anyio>=3.1.0 in /home/hp/Downloads/Notebooks/GX_DataQuality/.venv/lib/python3.12/site-packages (from jupyter-server<3,>=2.4.0->notebook>=6.4.10->great-expectations==0.18.21) (4.4.0)\n",
      "Requirement already satisfied: argon2-cffi>=21.1 in /home/hp/Downloads/Notebooks/GX_DataQuality/.venv/lib/python3.12/site-packages (from jupyter-server<3,>=2.4.0->notebook>=6.4.10->great-expectations==0.18.21) (23.1.0)\n",
      "Requirement already satisfied: jupyter-client>=7.4.4 in /home/hp/Downloads/Notebooks/GX_DataQuality/.venv/lib/python3.12/site-packages (from jupyter-server<3,>=2.4.0->notebook>=6.4.10->great-expectations==0.18.21) (8.6.2)\n",
      "Requirement already satisfied: jupyter-events>=0.9.0 in /home/hp/Downloads/Notebooks/GX_DataQuality/.venv/lib/python3.12/site-packages (from jupyter-server<3,>=2.4.0->notebook>=6.4.10->great-expectations==0.18.21) (0.10.0)\n",
      "Requirement already satisfied: jupyter-server-terminals>=0.4.4 in /home/hp/Downloads/Notebooks/GX_DataQuality/.venv/lib/python3.12/site-packages (from jupyter-server<3,>=2.4.0->notebook>=6.4.10->great-expectations==0.18.21) (0.5.3)\n",
      "Requirement already satisfied: nbconvert>=6.4.4 in /home/hp/Downloads/Notebooks/GX_DataQuality/.venv/lib/python3.12/site-packages (from jupyter-server<3,>=2.4.0->notebook>=6.4.10->great-expectations==0.18.21) (7.16.4)\n",
      "Requirement already satisfied: overrides>=5.0 in /home/hp/Downloads/Notebooks/GX_DataQuality/.venv/lib/python3.12/site-packages (from jupyter-server<3,>=2.4.0->notebook>=6.4.10->great-expectations==0.18.21) (7.7.0)\n",
      "Requirement already satisfied: prometheus-client>=0.9 in /home/hp/Downloads/Notebooks/GX_DataQuality/.venv/lib/python3.12/site-packages (from jupyter-server<3,>=2.4.0->notebook>=6.4.10->great-expectations==0.18.21) (0.20.0)\n",
      "Requirement already satisfied: pyzmq>=24 in /home/hp/Downloads/Notebooks/GX_DataQuality/.venv/lib/python3.12/site-packages (from jupyter-server<3,>=2.4.0->notebook>=6.4.10->great-expectations==0.18.21) (26.2.0)\n",
      "Requirement already satisfied: send2trash>=1.8.2 in /home/hp/Downloads/Notebooks/GX_DataQuality/.venv/lib/python3.12/site-packages (from jupyter-server<3,>=2.4.0->notebook>=6.4.10->great-expectations==0.18.21) (1.8.3)\n",
      "Requirement already satisfied: terminado>=0.8.3 in /home/hp/Downloads/Notebooks/GX_DataQuality/.venv/lib/python3.12/site-packages (from jupyter-server<3,>=2.4.0->notebook>=6.4.10->great-expectations==0.18.21) (0.18.1)\n",
      "Requirement already satisfied: websocket-client>=1.7 in /home/hp/Downloads/Notebooks/GX_DataQuality/.venv/lib/python3.12/site-packages (from jupyter-server<3,>=2.4.0->notebook>=6.4.10->great-expectations==0.18.21) (1.8.0)\n",
      "Requirement already satisfied: async-lru>=1.0.0 in /home/hp/Downloads/Notebooks/GX_DataQuality/.venv/lib/python3.12/site-packages (from jupyterlab<4.3,>=4.2.0->notebook>=6.4.10->great-expectations==0.18.21) (2.0.4)\n",
      "Requirement already satisfied: httpx>=0.25.0 in /home/hp/Downloads/Notebooks/GX_DataQuality/.venv/lib/python3.12/site-packages (from jupyterlab<4.3,>=4.2.0->notebook>=6.4.10->great-expectations==0.18.21) (0.27.2)\n",
      "Requirement already satisfied: ipykernel>=6.5.0 in /home/hp/Downloads/Notebooks/GX_DataQuality/.venv/lib/python3.12/site-packages (from jupyterlab<4.3,>=4.2.0->notebook>=6.4.10->great-expectations==0.18.21) (6.29.5)\n",
      "Requirement already satisfied: jupyter-lsp>=2.0.0 in /home/hp/Downloads/Notebooks/GX_DataQuality/.venv/lib/python3.12/site-packages (from jupyterlab<4.3,>=4.2.0->notebook>=6.4.10->great-expectations==0.18.21) (2.2.5)\n",
      "Requirement already satisfied: setuptools>=40.1.0 in /home/hp/Downloads/Notebooks/GX_DataQuality/.venv/lib/python3.12/site-packages (from jupyterlab<4.3,>=4.2.0->notebook>=6.4.10->great-expectations==0.18.21) (74.0.0)\n",
      "Requirement already satisfied: babel>=2.10 in /home/hp/Downloads/Notebooks/GX_DataQuality/.venv/lib/python3.12/site-packages (from jupyterlab-server<3,>=2.27.1->notebook>=6.4.10->great-expectations==0.18.21) (2.16.0)\n",
      "Requirement already satisfied: json5>=0.9.0 in /home/hp/Downloads/Notebooks/GX_DataQuality/.venv/lib/python3.12/site-packages (from jupyterlab-server<3,>=2.27.1->notebook>=6.4.10->great-expectations==0.18.21) (0.9.25)\n",
      "Requirement already satisfied: ptyprocess>=0.5 in /home/hp/Downloads/Notebooks/GX_DataQuality/.venv/lib/python3.12/site-packages (from pexpect>4.3->Ipython>=7.16.3->great-expectations==0.18.21) (0.7.0)\n",
      "Requirement already satisfied: wcwidth in /home/hp/Downloads/Notebooks/GX_DataQuality/.venv/lib/python3.12/site-packages (from prompt-toolkit<3.1.0,>=3.0.41->Ipython>=7.16.3->great-expectations==0.18.21) (0.2.13)\n",
      "Requirement already satisfied: executing>=1.2.0 in /home/hp/Downloads/Notebooks/GX_DataQuality/.venv/lib/python3.12/site-packages (from stack-data->Ipython>=7.16.3->great-expectations==0.18.21) (2.0.1)\n",
      "Requirement already satisfied: asttokens>=2.1.0 in /home/hp/Downloads/Notebooks/GX_DataQuality/.venv/lib/python3.12/site-packages (from stack-data->Ipython>=7.16.3->great-expectations==0.18.21) (2.4.1)\n",
      "Requirement already satisfied: pure-eval in /home/hp/Downloads/Notebooks/GX_DataQuality/.venv/lib/python3.12/site-packages (from stack-data->Ipython>=7.16.3->great-expectations==0.18.21) (0.2.3)\n",
      "Requirement already satisfied: sniffio>=1.1 in /home/hp/Downloads/Notebooks/GX_DataQuality/.venv/lib/python3.12/site-packages (from anyio>=3.1.0->jupyter-server<3,>=2.4.0->notebook>=6.4.10->great-expectations==0.18.21) (1.3.1)\n",
      "Requirement already satisfied: argon2-cffi-bindings in /home/hp/Downloads/Notebooks/GX_DataQuality/.venv/lib/python3.12/site-packages (from argon2-cffi>=21.1->jupyter-server<3,>=2.4.0->notebook>=6.4.10->great-expectations==0.18.21) (21.2.0)\n",
      "Requirement already satisfied: httpcore==1.* in /home/hp/Downloads/Notebooks/GX_DataQuality/.venv/lib/python3.12/site-packages (from httpx>=0.25.0->jupyterlab<4.3,>=4.2.0->notebook>=6.4.10->great-expectations==0.18.21) (1.0.5)\n",
      "Requirement already satisfied: h11<0.15,>=0.13 in /home/hp/Downloads/Notebooks/GX_DataQuality/.venv/lib/python3.12/site-packages (from httpcore==1.*->httpx>=0.25.0->jupyterlab<4.3,>=4.2.0->notebook>=6.4.10->great-expectations==0.18.21) (0.14.0)\n",
      "Requirement already satisfied: debugpy>=1.6.5 in /home/hp/Downloads/Notebooks/GX_DataQuality/.venv/lib/python3.12/site-packages (from ipykernel>=6.5.0->jupyterlab<4.3,>=4.2.0->notebook>=6.4.10->great-expectations==0.18.21) (1.8.5)\n",
      "Requirement already satisfied: nest-asyncio in /home/hp/Downloads/Notebooks/GX_DataQuality/.venv/lib/python3.12/site-packages (from ipykernel>=6.5.0->jupyterlab<4.3,>=4.2.0->notebook>=6.4.10->great-expectations==0.18.21) (1.6.0)\n",
      "Requirement already satisfied: psutil in /home/hp/Downloads/Notebooks/GX_DataQuality/.venv/lib/python3.12/site-packages (from ipykernel>=6.5.0->jupyterlab<4.3,>=4.2.0->notebook>=6.4.10->great-expectations==0.18.21) (6.0.0)\n",
      "Requirement already satisfied: python-json-logger>=2.0.4 in /home/hp/Downloads/Notebooks/GX_DataQuality/.venv/lib/python3.12/site-packages (from jupyter-events>=0.9.0->jupyter-server<3,>=2.4.0->notebook>=6.4.10->great-expectations==0.18.21) (2.0.7)\n",
      "Requirement already satisfied: pyyaml>=5.3 in /home/hp/Downloads/Notebooks/GX_DataQuality/.venv/lib/python3.12/site-packages (from jupyter-events>=0.9.0->jupyter-server<3,>=2.4.0->notebook>=6.4.10->great-expectations==0.18.21) (6.0.2)\n",
      "Requirement already satisfied: rfc3339-validator in /home/hp/Downloads/Notebooks/GX_DataQuality/.venv/lib/python3.12/site-packages (from jupyter-events>=0.9.0->jupyter-server<3,>=2.4.0->notebook>=6.4.10->great-expectations==0.18.21) (0.1.4)\n",
      "Requirement already satisfied: rfc3986-validator>=0.1.1 in /home/hp/Downloads/Notebooks/GX_DataQuality/.venv/lib/python3.12/site-packages (from jupyter-events>=0.9.0->jupyter-server<3,>=2.4.0->notebook>=6.4.10->great-expectations==0.18.21) (0.1.1)\n",
      "Requirement already satisfied: beautifulsoup4 in /home/hp/Downloads/Notebooks/GX_DataQuality/.venv/lib/python3.12/site-packages (from nbconvert>=6.4.4->jupyter-server<3,>=2.4.0->notebook>=6.4.10->great-expectations==0.18.21) (4.12.3)\n",
      "Requirement already satisfied: bleach!=5.0.0 in /home/hp/Downloads/Notebooks/GX_DataQuality/.venv/lib/python3.12/site-packages (from nbconvert>=6.4.4->jupyter-server<3,>=2.4.0->notebook>=6.4.10->great-expectations==0.18.21) (6.1.0)\n",
      "Requirement already satisfied: defusedxml in /home/hp/Downloads/Notebooks/GX_DataQuality/.venv/lib/python3.12/site-packages (from nbconvert>=6.4.4->jupyter-server<3,>=2.4.0->notebook>=6.4.10->great-expectations==0.18.21) (0.7.1)\n",
      "Requirement already satisfied: jupyterlab-pygments in /home/hp/Downloads/Notebooks/GX_DataQuality/.venv/lib/python3.12/site-packages (from nbconvert>=6.4.4->jupyter-server<3,>=2.4.0->notebook>=6.4.10->great-expectations==0.18.21) (0.3.0)\n",
      "Requirement already satisfied: nbclient>=0.5.0 in /home/hp/Downloads/Notebooks/GX_DataQuality/.venv/lib/python3.12/site-packages (from nbconvert>=6.4.4->jupyter-server<3,>=2.4.0->notebook>=6.4.10->great-expectations==0.18.21) (0.10.0)\n",
      "Requirement already satisfied: pandocfilters>=1.4.1 in /home/hp/Downloads/Notebooks/GX_DataQuality/.venv/lib/python3.12/site-packages (from nbconvert>=6.4.4->jupyter-server<3,>=2.4.0->notebook>=6.4.10->great-expectations==0.18.21) (1.5.1)\n",
      "Requirement already satisfied: tinycss2 in /home/hp/Downloads/Notebooks/GX_DataQuality/.venv/lib/python3.12/site-packages (from nbconvert>=6.4.4->jupyter-server<3,>=2.4.0->notebook>=6.4.10->great-expectations==0.18.21) (1.3.0)\n",
      "Requirement already satisfied: webencodings in /home/hp/Downloads/Notebooks/GX_DataQuality/.venv/lib/python3.12/site-packages (from bleach!=5.0.0->nbconvert>=6.4.4->jupyter-server<3,>=2.4.0->notebook>=6.4.10->great-expectations==0.18.21) (0.5.1)\n",
      "Requirement already satisfied: fqdn in /home/hp/Downloads/Notebooks/GX_DataQuality/.venv/lib/python3.12/site-packages (from jsonschema[format-nongpl]>=4.18.0->jupyter-events>=0.9.0->jupyter-server<3,>=2.4.0->notebook>=6.4.10->great-expectations==0.18.21) (1.5.1)\n",
      "Requirement already satisfied: isoduration in /home/hp/Downloads/Notebooks/GX_DataQuality/.venv/lib/python3.12/site-packages (from jsonschema[format-nongpl]>=4.18.0->jupyter-events>=0.9.0->jupyter-server<3,>=2.4.0->notebook>=6.4.10->great-expectations==0.18.21) (20.11.0)\n",
      "Requirement already satisfied: uri-template in /home/hp/Downloads/Notebooks/GX_DataQuality/.venv/lib/python3.12/site-packages (from jsonschema[format-nongpl]>=4.18.0->jupyter-events>=0.9.0->jupyter-server<3,>=2.4.0->notebook>=6.4.10->great-expectations==0.18.21) (1.3.0)\n",
      "Requirement already satisfied: webcolors>=24.6.0 in /home/hp/Downloads/Notebooks/GX_DataQuality/.venv/lib/python3.12/site-packages (from jsonschema[format-nongpl]>=4.18.0->jupyter-events>=0.9.0->jupyter-server<3,>=2.4.0->notebook>=6.4.10->great-expectations==0.18.21) (24.8.0)\n",
      "Requirement already satisfied: soupsieve>1.2 in /home/hp/Downloads/Notebooks/GX_DataQuality/.venv/lib/python3.12/site-packages (from beautifulsoup4->nbconvert>=6.4.4->jupyter-server<3,>=2.4.0->notebook>=6.4.10->great-expectations==0.18.21) (2.6)\n",
      "Requirement already satisfied: arrow>=0.15.0 in /home/hp/Downloads/Notebooks/GX_DataQuality/.venv/lib/python3.12/site-packages (from isoduration->jsonschema[format-nongpl]>=4.18.0->jupyter-events>=0.9.0->jupyter-server<3,>=2.4.0->notebook>=6.4.10->great-expectations==0.18.21) (1.3.0)\n",
      "Requirement already satisfied: types-python-dateutil>=2.8.10 in /home/hp/Downloads/Notebooks/GX_DataQuality/.venv/lib/python3.12/site-packages (from arrow>=0.15.0->isoduration->jsonschema[format-nongpl]>=4.18.0->jupyter-events>=0.9.0->jupyter-server<3,>=2.4.0->notebook>=6.4.10->great-expectations==0.18.21) (2.9.0.20240821)\n",
      "Note: you may need to restart the kernel to use updated packages.\n",
      "Requirement already satisfied: pyspark in /home/hp/Downloads/Notebooks/GX_DataQuality/.venv/lib/python3.12/site-packages (3.5.3)\n",
      "Requirement already satisfied: py4j==0.10.9.7 in /home/hp/Downloads/Notebooks/GX_DataQuality/.venv/lib/python3.12/site-packages (from pyspark) (0.10.9.7)\n",
      "Note: you may need to restart the kernel to use updated packages.\n"
     ]
    }
   ],
   "source": [
    "%pip install great-expectations==0.18.21\n",
    "%pip install pyspark"
   ]
  },
  {
   "cell_type": "markdown",
   "metadata": {
    "application/vnd.databricks.v1+cell": {
     "cellMetadata": {
      "byteLimit": 2048000,
      "rowLimit": 10000
     },
     "inputWidgets": {},
     "nuid": "072a9d34-e58b-4d62-aec8-0656a75224bb",
     "showTitle": false,
     "title": ""
    }
   },
   "source": [
    "### Importación de librerias"
   ]
  },
  {
   "cell_type": "code",
   "execution_count": 3,
   "metadata": {
    "application/vnd.databricks.v1+cell": {
     "cellMetadata": {
      "byteLimit": 2048000,
      "rowLimit": 10000
     },
     "inputWidgets": {},
     "nuid": "42dc367e-0be6-4781-a0aa-8a5793227999",
     "showTitle": false,
     "title": ""
    }
   },
   "outputs": [
    {
     "name": "stderr",
     "output_type": "stream",
     "text": [
      "24/10/21 20:01:22 WARN Utils: Your hostname, hp-HP-Laptop-14-em0xxx resolves to a loopback address: 127.0.1.1; using 192.168.1.12 instead (on interface wlo1)\n",
      "24/10/21 20:01:22 WARN Utils: Set SPARK_LOCAL_IP if you need to bind to another address\n",
      "Setting default log level to \"WARN\".\n",
      "To adjust logging level use sc.setLogLevel(newLevel). For SparkR, use setLogLevel(newLevel).\n",
      "24/10/21 20:01:22 WARN NativeCodeLoader: Unable to load native-hadoop library for your platform... using builtin-java classes where applicable\n",
      "24/10/21 20:01:23 WARN Utils: Service 'SparkUI' could not bind on port 4040. Attempting port 4041.\n",
      "24/10/21 20:01:23 WARN Utils: Service 'SparkUI' could not bind on port 4041. Attempting port 4042.\n"
     ]
    }
   ],
   "source": [
    "# Librerias Generales\n",
    "# =======================================================\n",
    "import pandas as pd # type: ignore\n",
    "import numpy as np # type: ignore\n",
    "from datetime import date, datetime, timedelta\n",
    "import pytz # type: ignore\n",
    "import os\n",
    "import warnings\n",
    "import json\n",
    "warnings.filterwarnings(\"ignore\")\n",
    "\n",
    "# Librerías PySpark\n",
    "#=========================\n",
    "from pyspark.sql import SparkSession # type: ignore\n",
    "from pyspark.sql.functions import * # type: ignore\n",
    "from pyspark.sql.types import * # type: ignore\n",
    "\n",
    "# Crea sesión de Spark\n",
    "spark = SparkSession \\\n",
    "    .builder \\\n",
    "    .master(\"local\")\\\n",
    "    .appName(\"Python Spark\") \\\n",
    "    .getOrCreate()\n",
    "\n",
    "\n",
    "# Librerías GX - QA\n",
    "#=========================\n",
    "import great_expectations as gx # type: ignore\n",
    "from great_expectations.checkpoint import SimpleCheckpoint # type: ignore\n",
    "from great_expectations.render.renderer import ValidationResultsPageRenderer, ProfilingResultsPageRenderer # type: ignore\n",
    "from great_expectations.render.view import DefaultJinjaPageView # type: ignore\n",
    "from great_expectations.profile.basic_dataset_profiler import BasicDatasetProfiler # type: ignore\n",
    "from great_expectations.dataset.sparkdf_dataset import SparkDFDataset # type: ignore\n"
   ]
  },
  {
   "cell_type": "code",
   "execution_count": 4,
   "metadata": {
    "application/vnd.databricks.v1+cell": {
     "cellMetadata": {
      "byteLimit": 2048000,
      "rowLimit": 10000
     },
     "inputWidgets": {},
     "nuid": "a205e76b-9372-4a60-87c9-5a905da6d3d4",
     "showTitle": false,
     "title": ""
    }
   },
   "outputs": [
    {
     "name": "stdout",
     "output_type": "stream",
     "text": [
      "GX Version :0.18.21\n",
      "PySpark Version :3.5.3\n"
     ]
    }
   ],
   "source": [
    "# Revisión de Versiones\n",
    "print('GX Version :'+gx.__version__)\n",
    "print('PySpark Version :'+spark.sparkContext.version)"
   ]
  },
  {
   "cell_type": "markdown",
   "metadata": {
    "application/vnd.databricks.v1+cell": {
     "cellMetadata": {
      "byteLimit": 2048000,
      "rowLimit": 10000
     },
     "inputWidgets": {},
     "nuid": "d19ef21c-34a1-4585-8948-d7c27cd280c2",
     "showTitle": false,
     "title": ""
    }
   },
   "source": [
    "### Definición de Funciones y Parámetros"
   ]
  },
  {
   "cell_type": "code",
   "execution_count": 5,
   "metadata": {
    "application/vnd.databricks.v1+cell": {
     "cellMetadata": {
      "byteLimit": 2048000,
      "rowLimit": 10000
     },
     "inputWidgets": {},
     "nuid": "038a3630-184f-431d-8f79-67d078b7e055",
     "showTitle": false,
     "title": ""
    }
   },
   "outputs": [
    {
     "data": {
      "text/plain": [
       "'20241021'"
      ]
     },
     "execution_count": 5,
     "metadata": {},
     "output_type": "execute_result"
    }
   ],
   "source": [
    "# Fecha Actual\n",
    "# ==================================================\n",
    "\n",
    "# Timezone (UTC-5)\n",
    "tzInfo = pytz.timezone('America/Bogota')\n",
    "\n",
    "timestamp = datetime.now(tz=tzInfo).strftime('%Y-%m-%d %H:%M:%S')\n",
    "today = datetime.now(tz=tzInfo).date().strftime('%Y%m%d')\n",
    "year = datetime.now(tz=tzInfo).date().strftime('%Y')\n",
    "month = datetime.now(tz=tzInfo).date().strftime('%m')\n",
    "hour = datetime.strptime(timestamp, '%Y-%m-%d %H:%M:%S')\n",
    "\n",
    "today\n"
   ]
  },
  {
   "cell_type": "code",
   "execution_count": 7,
   "metadata": {
    "application/vnd.databricks.v1+cell": {
     "cellMetadata": {
      "byteLimit": 2048000,
      "rowLimit": 10000
     },
     "inputWidgets": {},
     "nuid": "deaead5d-f6d8-4cd4-a83c-78e6a2fd8131",
     "showTitle": false,
     "title": ""
    }
   },
   "outputs": [],
   "source": [
    "# Configura directorio de GX\n",
    "# ==================================================\n",
    "\n",
    "# Asigna carpeta para el contexto\n",
    "context_root_dir = \"./qa_gx/clientes\"\n",
    "context = gx.get_context(context_root_dir=context_root_dir)\n",
    "\n",
    "# Configura el ID de ejecución\n",
    "run_id = {\n",
    "    \"run_name\": \"Ejecución QA - Clientes CRM\",\n",
    "    \"run_time\": datetime.now().strftime(\"%Y-%m-%d %H:%M:%S\")\n",
    "}\n"
   ]
  },
  {
   "cell_type": "markdown",
   "metadata": {
    "application/vnd.databricks.v1+cell": {
     "cellMetadata": {
      "byteLimit": 2048000,
      "rowLimit": 10000
     },
     "inputWidgets": {},
     "nuid": "4ea6abe6-03af-429e-ad6e-bea957850046",
     "showTitle": false,
     "title": ""
    }
   },
   "source": [
    "## Ingesta de datos"
   ]
  },
  {
   "cell_type": "markdown",
   "metadata": {
    "application/vnd.databricks.v1+cell": {
     "cellMetadata": {
      "byteLimit": 2048000,
      "rowLimit": 10000
     },
     "inputWidgets": {},
     "nuid": "f9143de6-971f-4800-9887-5821bf4037f5",
     "showTitle": false,
     "title": ""
    }
   },
   "source": [
    "#### Clientes CRM"
   ]
  },
  {
   "cell_type": "code",
   "execution_count": 8,
   "metadata": {
    "application/vnd.databricks.v1+cell": {
     "cellMetadata": {
      "byteLimit": 2048000,
      "rowLimit": 10000
     },
     "inputWidgets": {},
     "nuid": "b13ed3a5-3177-4941-911f-6cd109d6f20b",
     "showTitle": false,
     "title": ""
    }
   },
   "outputs": [],
   "source": [
    "# Lee BD Clientes\n",
    "\n",
    "clientes_crm = (spark.read.format(\"csv\")\n",
    "                .option(\"delimiter\", \",\")\n",
    "                .option(\"header\", \"True\")\n",
    "                .load(\"./qa_gx/clientes/CRM/BD_Clientes_CRM.csv\"))\\\n",
    "                .withColumn(\"TELEFONO\", col(\"TELEFONO\").cast(StringType()))"
   ]
  },
  {
   "cell_type": "code",
   "execution_count": 9,
   "metadata": {
    "application/vnd.databricks.v1+cell": {
     "cellMetadata": {
      "byteLimit": 2048000,
      "rowLimit": 10000
     },
     "inputWidgets": {},
     "nuid": "aebe28fa-f7b0-4740-9437-10f4c732b373",
     "showTitle": false,
     "title": ""
    }
   },
   "outputs": [
    {
     "name": "stdout",
     "output_type": "stream",
     "text": [
      "+--------------+-------------------+----------+--------------------+\n",
      "|ID_CLIENTE_CRM|     NOMBRE_CLIENTE|  TELEFONO|               EMAIL|\n",
      "+--------------+-------------------+----------+--------------------+\n",
      "|          1234|    Pedro Saul Rumi|3123456789|dmitry.ivanov@cor...|\n",
      "|          1235|      Juan Per Salc|3145678901|anastasia.petrova...|\n",
      "|          1236|    Miguel Ort Naim|3198765432|nikolai.sokolov@m...|\n",
      "|          1237|      Ana Juli Retr|3112345678|olga.kuznetsova@w...|\n",
      "|          1238|     Maria San Delg|3007654321|alexei.smirnov@co...|\n",
      "|          1239|    John Reng Piotr|3134567890|ekaterina.fedorov...|\n",
      "|          1240|      Dmitry Ivanov|3176543210|sergey.volkov@mai...|\n",
      "|          1241|  Anastasia Petrova|3154321098|marina.morozova@s...|\n",
      "|          1242|    Nikolai Sokolov|3129876543|viktor.lebedev@co...|\n",
      "|          1243|    Olga Kuznetsova|3110987654|svetlana.mikhailo...|\n",
      "|          1244|     Alexei Smirnov|3206543210|ivan.pavlov@domin...|\n",
      "|          1245| Ekaterina Fedorova|3178901234|natalia.vasilieva...|\n",
      "|          1246|      Sergey Volkov|3143210987|mikhail.kozlov@co...|\n",
      "|          1247|    Marina Morozova|3156789012|tatiana.ivanova?s...|\n",
      "|          1248|     Viktor Lebedev|3121098765|andrei.novikov@ma...|\n",
      "|          1249|Svetlana Mikhailova|3190123456|elena.romanova@do...|\n",
      "|          1250|        Ivan Pavlov|3015678902|roman.voronin@cor...|\n",
      "|          1251|  Natalia Vasilieva|3189012345|yulia.egorova@mai...|\n",
      "|          1252|               NULL| 316543210|igor.orlov@domini...|\n",
      "|          1253|    Tatiana Ivanova|3122345678|polina.yakovleva@...|\n",
      "|          1254|     Andrei Novikov|3150987654|boris.popov@webma...|\n",
      "|          1255|     Elena Romanova|3203456789|galina.stepanova@...|\n",
      "|          1256|      Roman Voronin|3171234567|kirill.zaitsev@ma...|\n",
      "|          1257|      Yulia Egorova|3148765432|vera.nikitina@dom...|\n",
      "|          1258|         Igor Orlov|3184321098|oleg.dmitriev@cor...|\n",
      "|          1259|   Polina Yakovleva|3117654321|irina.belova@serv...|\n",
      "|          1260|        Boris Popov|3167890123|pavel.antonov@dom...|\n",
      "|          1261|   Galina Stepanova|3026789012|ksenia.bogdanova@...|\n",
      "|          1262|     Kirill Zaitsev|3156543210|vladimir.sorokin@...|\n",
      "|          1263|      Vera Nikitina|3210123456|alina.tarasova@we...|\n",
      "|          1264|      Oleg Dmitriev|3197654321|roman.nikitin@cor...|\n",
      "|          1265|       Irina Belova|3185678901|olga.popova@domin...|\n",
      "|          1266|               NULL|3138765432|andrei.morozov@ma...|\n",
      "|          1267|   Ksenia Bogdanova|3123210987|     pedro@correo.ru|\n",
      "|          1268|   Vladimir Sorokin|3161098765|sergey.novikov@do...|\n",
      "|          1269|     Alina Tarasova|3198901234|tatiana.sokolova@...|\n",
      "|          1270|      Trevor Rachel|3114321098|alexei.ivanov@cor...|\n",
      "|          1271|         Mike Loang|3215432109|marina.fedorova@d...|\n",
      "|          1272|   Julieta Vernicio|3180987654|svetlana.romanova...|\n",
      "|          1273|     Carola Tomassi|3172345678|igor.kuznetsov@ma...|\n",
      "|          1299|     Patricia Solar|3209890099|      psolar@ind.com|\n",
      "+--------------+-------------------+----------+--------------------+\n",
      "\n"
     ]
    }
   ],
   "source": [
    "# Previsualización\n",
    "clientes_crm.show(50)"
   ]
  },
  {
   "cell_type": "markdown",
   "metadata": {},
   "source": [
    "#### Clientes ERP"
   ]
  },
  {
   "cell_type": "code",
   "execution_count": 10,
   "metadata": {},
   "outputs": [],
   "source": [
    "# Lee BD Clientes ERP\n",
    "\n",
    "clientes_erp = (spark.read.format(\"csv\")\n",
    "                .option(\"delimiter\", \",\")\n",
    "                .option(\"header\", \"True\")\n",
    "                .load(\"./qa_gx/clientes/ERP/BD_Clientes_ERP.csv\"))\\\n",
    "                .withColumn(\"TELEFONO_ERP\", col(\"TELEFONO_ERP\").cast(StringType()))"
   ]
  },
  {
   "cell_type": "code",
   "execution_count": 11,
   "metadata": {},
   "outputs": [
    {
     "name": "stdout",
     "output_type": "stream",
     "text": [
      "+------------+-------------------+------------+\n",
      "|ID_UNICO_ERP| NOMBRE_CLIENTE_ERP|TELEFONO_ERP|\n",
      "+------------+-------------------+------------+\n",
      "|        1234|    Pedro Saul Rumi|  3123456789|\n",
      "|        1235|      Juan Per Salc|  3145678901|\n",
      "|        1236|    Miguel Ort Naim|  3198765432|\n",
      "|        1237|      Ana Juli Retr|  3112345678|\n",
      "|        1238|     Maria San Delg|  3007654321|\n",
      "|        1239|    John Reng Piotr|  3134567890|\n",
      "|        1240|      Dmitry Ivanov|  3176543210|\n",
      "|        1241|  Anastasia Petrova|  3154321098|\n",
      "|        1242|    Nikolai Sokolov|  3129876543|\n",
      "|        1243|    Olga Kuznetsova|  3110987654|\n",
      "|        1248|     Viktor Lebedev|  3121098765|\n",
      "|        1249|Svetlana Mikhailova|  3190123456|\n",
      "|        1250|        Ivan Pavlov|  3015678902|\n",
      "|        1251|  Natalia Vasilieva|  3189012345|\n",
      "|        1252|     Mikhail Kozlov|  3165432109|\n",
      "|        1253|    Tatiana Ivanova|  3122345678|\n",
      "|        1254|     Andrei Novikov|  3150987654|\n",
      "|        1255|     Elena Romanova|  3203456789|\n",
      "|        1256|      Roman Voronin|  3171234567|\n",
      "|        1257|      Yulia Egorova|  3148765432|\n",
      "|        1258|         Igor Orlov|  3184321098|\n",
      "|        1259|   Polina Yakovleva|  3117654321|\n",
      "|        1260|        Boris Popov|  3167890123|\n",
      "|        1261|   Galina Stepanova|  3026789012|\n",
      "|        1262|     Kirill Zaitsev|  3156543210|\n",
      "|        1263|      Vera Nikitina|  3210123456|\n",
      "|        1264|      Oleg Dmitriev|  3197654321|\n",
      "|        1272|   Julieta Vernicio|  3180987654|\n",
      "|        1273|     Carola Tomassi|  3172345678|\n",
      "|        1289|          Perl Harb|  3109998877|\n",
      "|        1290|       Sebas Caized|  3128887766|\n",
      "+------------+-------------------+------------+\n",
      "\n"
     ]
    }
   ],
   "source": [
    "# Previsualización\n",
    "clientes_erp.show(50)"
   ]
  },
  {
   "cell_type": "markdown",
   "metadata": {
    "application/vnd.databricks.v1+cell": {
     "cellMetadata": {},
     "inputWidgets": {},
     "nuid": "8e7ea603-3d99-4d52-8cfa-396847b9fbe3",
     "showTitle": false,
     "title": ""
    }
   },
   "source": [
    "## Procesamiento"
   ]
  },
  {
   "cell_type": "code",
   "execution_count": 12,
   "metadata": {},
   "outputs": [
    {
     "name": "stdout",
     "output_type": "stream",
     "text": [
      "+--------------+-------------------+------------+--------------------+-------------------+------------+\n",
      "|ID_CLIENTE_CRM| NOMBRE_CLIENTE_CRM|TELEFONO_CRM|           EMAIL_CRM| NOMBRE_CLIENTE_ERP|TELEFONO_ERP|\n",
      "+--------------+-------------------+------------+--------------------+-------------------+------------+\n",
      "|          1234|    Pedro Saul Rumi|  3123456789|dmitry.ivanov@cor...|    Pedro Saul Rumi|  3123456789|\n",
      "|          1235|      Juan Per Salc|  3145678901|anastasia.petrova...|      Juan Per Salc|  3145678901|\n",
      "|          1236|    Miguel Ort Naim|  3198765432|nikolai.sokolov@m...|    Miguel Ort Naim|  3198765432|\n",
      "|          1237|      Ana Juli Retr|  3112345678|olga.kuznetsova@w...|      Ana Juli Retr|  3112345678|\n",
      "|          1238|     Maria San Delg|  3007654321|alexei.smirnov@co...|     Maria San Delg|  3007654321|\n",
      "|          1239|    John Reng Piotr|  3134567890|ekaterina.fedorov...|    John Reng Piotr|  3134567890|\n",
      "|          1240|      Dmitry Ivanov|  3176543210|sergey.volkov@mai...|      Dmitry Ivanov|  3176543210|\n",
      "|          1241|  Anastasia Petrova|  3154321098|marina.morozova@s...|  Anastasia Petrova|  3154321098|\n",
      "|          1242|    Nikolai Sokolov|  3129876543|viktor.lebedev@co...|    Nikolai Sokolov|  3129876543|\n",
      "|          1243|    Olga Kuznetsova|  3110987654|svetlana.mikhailo...|    Olga Kuznetsova|  3110987654|\n",
      "|          1244|     Alexei Smirnov|  3206543210|ivan.pavlov@domin...|               NULL|        NULL|\n",
      "|          1245| Ekaterina Fedorova|  3178901234|natalia.vasilieva...|               NULL|        NULL|\n",
      "|          1246|      Sergey Volkov|  3143210987|mikhail.kozlov@co...|               NULL|        NULL|\n",
      "|          1247|    Marina Morozova|  3156789012|tatiana.ivanova?s...|               NULL|        NULL|\n",
      "|          1248|     Viktor Lebedev|  3121098765|andrei.novikov@ma...|     Viktor Lebedev|  3121098765|\n",
      "|          1249|Svetlana Mikhailova|  3190123456|elena.romanova@do...|Svetlana Mikhailova|  3190123456|\n",
      "|          1250|        Ivan Pavlov|  3015678902|roman.voronin@cor...|        Ivan Pavlov|  3015678902|\n",
      "|          1251|  Natalia Vasilieva|  3189012345|yulia.egorova@mai...|  Natalia Vasilieva|  3189012345|\n",
      "|          1252|               NULL|   316543210|igor.orlov@domini...|     Mikhail Kozlov|  3165432109|\n",
      "|          1253|    Tatiana Ivanova|  3122345678|polina.yakovleva@...|    Tatiana Ivanova|  3122345678|\n",
      "|          1254|     Andrei Novikov|  3150987654|boris.popov@webma...|     Andrei Novikov|  3150987654|\n",
      "|          1255|     Elena Romanova|  3203456789|galina.stepanova@...|     Elena Romanova|  3203456789|\n",
      "|          1256|      Roman Voronin|  3171234567|kirill.zaitsev@ma...|      Roman Voronin|  3171234567|\n",
      "|          1257|      Yulia Egorova|  3148765432|vera.nikitina@dom...|      Yulia Egorova|  3148765432|\n",
      "|          1258|         Igor Orlov|  3184321098|oleg.dmitriev@cor...|         Igor Orlov|  3184321098|\n",
      "|          1259|   Polina Yakovleva|  3117654321|irina.belova@serv...|   Polina Yakovleva|  3117654321|\n",
      "|          1260|        Boris Popov|  3167890123|pavel.antonov@dom...|        Boris Popov|  3167890123|\n",
      "|          1261|   Galina Stepanova|  3026789012|ksenia.bogdanova@...|   Galina Stepanova|  3026789012|\n",
      "|          1262|     Kirill Zaitsev|  3156543210|vladimir.sorokin@...|     Kirill Zaitsev|  3156543210|\n",
      "|          1263|      Vera Nikitina|  3210123456|alina.tarasova@we...|      Vera Nikitina|  3210123456|\n",
      "|          1264|      Oleg Dmitriev|  3197654321|roman.nikitin@cor...|      Oleg Dmitriev|  3197654321|\n",
      "|          1265|       Irina Belova|  3185678901|olga.popova@domin...|               NULL|        NULL|\n",
      "|          1266|               NULL|  3138765432|andrei.morozov@ma...|               NULL|        NULL|\n",
      "|          1267|   Ksenia Bogdanova|  3123210987|     pedro@correo.ru|               NULL|        NULL|\n",
      "|          1268|   Vladimir Sorokin|  3161098765|sergey.novikov@do...|               NULL|        NULL|\n",
      "|          1269|     Alina Tarasova|  3198901234|tatiana.sokolova@...|               NULL|        NULL|\n",
      "|          1270|      Trevor Rachel|  3114321098|alexei.ivanov@cor...|               NULL|        NULL|\n",
      "|          1271|         Mike Loang|  3215432109|marina.fedorova@d...|               NULL|        NULL|\n",
      "|          1272|   Julieta Vernicio|  3180987654|svetlana.romanova...|   Julieta Vernicio|  3180987654|\n",
      "|          1273|     Carola Tomassi|  3172345678|igor.kuznetsov@ma...|     Carola Tomassi|  3172345678|\n",
      "|          1299|     Patricia Solar|  3209890099|      psolar@ind.com|               NULL|        NULL|\n",
      "+--------------+-------------------+------------+--------------------+-------------------+------------+\n",
      "\n"
     ]
    }
   ],
   "source": [
    "# Cruza las BD de Clientes por el ID del Cliente\n",
    "# =============================================================\n",
    "\n",
    "# Realiza un left join\n",
    "df_crm_erp = clientes_crm.join(clientes_erp, clientes_crm['ID_CLIENTE_CRM'] == clientes_erp['ID_UNICO_ERP'], how=\"left\")\n",
    "\n",
    "# Seleccionar y renombrar algunas columnas\n",
    "df_crm_erp = df_crm_erp.select(\n",
    "    df_crm_erp.ID_CLIENTE_CRM.alias(\"ID_CLIENTE_CRM\"),\n",
    "    df_crm_erp.NOMBRE_CLIENTE.alias(\"NOMBRE_CLIENTE_CRM\"),\n",
    "    df_crm_erp.TELEFONO.alias(\"TELEFONO_CRM\"),\n",
    "    df_crm_erp.EMAIL.alias(\"EMAIL_CRM\"),\n",
    "    df_crm_erp.NOMBRE_CLIENTE_ERP.alias(\"NOMBRE_CLIENTE_ERP\"),\n",
    "    df_crm_erp.TELEFONO_ERP.alias(\"TELEFONO_ERP\")\n",
    ")\n",
    "\n",
    "# Previsualización\n",
    "df_crm_erp.show(50)"
   ]
  },
  {
   "cell_type": "code",
   "execution_count": 13,
   "metadata": {},
   "outputs": [
    {
     "data": {
      "text/plain": [
       "41"
      ]
     },
     "execution_count": 13,
     "metadata": {},
     "output_type": "execute_result"
    }
   ],
   "source": [
    "df_crm_erp.count()"
   ]
  },
  {
   "cell_type": "code",
   "execution_count": 14,
   "metadata": {},
   "outputs": [
    {
     "name": "stdout",
     "output_type": "stream",
     "text": [
      "<class 'great_expectations.dataset.sparkdf_dataset.SparkDFDataset'>\n"
     ]
    }
   ],
   "source": [
    "# Convertir el DataFrame de Spark a un DataFrame de Great Expectations\n",
    "# =============================================================\n",
    "\n",
    "df_ge = gx.dataset.SparkDFDataset(df_crm_erp)\n",
    "print(type(df_ge))\n"
   ]
  },
  {
   "cell_type": "markdown",
   "metadata": {},
   "source": [
    "#### Completitud\n",
    "\n",
    "Se evaluará si los campos obligatorios (nombre, dirección de correo electrónico, número de teléfono) están completos. Se espera que el 80% de los datos cumplan la característica."
   ]
  },
  {
   "cell_type": "code",
   "execution_count": 15,
   "metadata": {},
   "outputs": [],
   "source": [
    "# Expectativas para el conjunto de datos (Reglas de validación)\n",
    "# URL: https://greatexpectations.io/expectations/\n",
    "# =============================================================\n",
    "\n",
    "# Columnas no nulas, se tolera que máximo el 20% de los registros esten vacíos\n",
    "result_1 = df_ge.expect_column_values_to_not_be_null(\n",
    "    column=\"NOMBRE_CLIENTE_CRM\",\n",
    "    mostly=0.20,\n",
    "    meta={\"notes\": \"Tipo de Caracteristica: completitud\"}\n",
    ")\n",
    "\n",
    "# Columnas no nulas, se tolera que máximo el 20% de los registros esten vacíos\n",
    "result_2 = df_ge.expect_column_values_to_not_be_null(\n",
    "    column=\"TELEFONO_CRM\",\n",
    "    mostly=0.20,\n",
    "    meta={\"notes\": \"Tipo de Caracteristica: completitud\"}\n",
    ")\n",
    "\n",
    "# Columnas no nulas, se tolera que máximo el 20% de los registros esten vacíos\n",
    "result_3 = df_ge.expect_column_values_to_not_be_null(\n",
    "    column=\"EMAIL_CRM\",\n",
    "    mostly=0.20,\n",
    "    meta={\"notes\": \"Tipo de Caracteristica: completitud\"}\n",
    ")\n"
   ]
  },
  {
   "cell_type": "markdown",
   "metadata": {},
   "source": [
    "#### Exactitud (sintáctica)\n",
    "\n",
    "Se evaluará si las direcciones de correo electrónico y los números de teléfono siguen el formato adecuado. Se espera que el 90% de los datos cumplan la característica.\n",
    "\n",
    "<B>Cálculo para correos electrónicos:</B> Verificar que el formato del correo electrónico sea nombre@dominio.extensión<br>\n",
    "<B>Cálculo para teléfonos:</B> Verificar que los números de teléfono sigan el formato nacional (por ejemplo, 10 números sin espacios ni caracteres especiales y que inicien por 3)."
   ]
  },
  {
   "cell_type": "code",
   "execution_count": 16,
   "metadata": {},
   "outputs": [],
   "source": [
    "# Expectativas para el conjunto de datos (Reglas de validación)\n",
    "# URL: https://greatexpectations.io/expectations/\n",
    "# =============================================================\n",
    "\n",
    "# Se espera valores en la columna EMAIL tengan el formato nombre@dominio.extensión. \n",
    "# Se tolera que máximo el 10% no cumplan\n",
    "result_4 = df_ge.expect_column_values_to_match_regex(\n",
    "    column=\"EMAIL_CRM\", \n",
    "    regex=r'^[a-zA-Z0-9._%+-]+@[a-zA-Z0-9.-]+\\.[a-zA-Z]{2,}$',\n",
    "    mostly=0.10,\n",
    "    meta={\"notes\": \"Tipo de Caracteristica: exactitud sintáctica\"}\n",
    ")\n",
    "\n",
    "# Se espera valores en la columna TELEFONO tengan 10 números \n",
    "# sin espacios ni caracteres especiales y que inicien por 3. \n",
    "# Se tolera que máximo el 10% no cumplan\n",
    "result_5 = df_ge.expect_column_values_to_match_regex(\n",
    "    column=\"TELEFONO_CRM\", \n",
    "    regex=r'^3\\d{9}$',\n",
    "    mostly=0.10,\n",
    "    meta={\"notes\": \"Tipo de Caracteristica: exactitud sintáctica\"}\n",
    ")\n"
   ]
  },
  {
   "cell_type": "markdown",
   "metadata": {},
   "source": [
    "#### Consistencia\n",
    "\n",
    "Se evaluará si los números de teléfono almacenados en el sistema CRM coinciden con los números almacenados en el sistema ERP. Se espera que el 85% de los datos cumplan la característica."
   ]
  },
  {
   "cell_type": "code",
   "execution_count": 17,
   "metadata": {},
   "outputs": [],
   "source": [
    "# Expectativas para el conjunto de datos (Reglas de validación)\n",
    "# URL: https://greatexpectations.io/expectations/\n",
    "# =============================================================\n",
    "\n",
    "# Se espera que el TELEFONO sea igual en ambos sistemas. \n",
    "# Se espera que el 85% sean consistentes\n",
    "result_6 = df_ge.expect_column_pair_values_to_be_equal(\n",
    "    column_A=\"TELEFONO_CRM\",\n",
    "    column_B=\"TELEFONO_ERP\",\n",
    "    mostly=0.80,\n",
    "    meta={\"notes\": \"Tipo de Caracteristica: consistencia\"}\n",
    ")\n"
   ]
  },
  {
   "cell_type": "markdown",
   "metadata": {},
   "source": [
    "## Resultados"
   ]
  },
  {
   "cell_type": "code",
   "execution_count": 18,
   "metadata": {},
   "outputs": [
    {
     "data": {
      "text/plain": [
       "<os._wrap_close at 0x7c0f563825d0>"
      ]
     },
     "execution_count": 18,
     "metadata": {},
     "output_type": "execute_result"
    }
   ],
   "source": [
    "# Guardar las expectativas en la suite\n",
    "# =============================================================\n",
    "\n",
    "# Nombre de la Suite de Reglas\n",
    "suite_name = run_id['run_name']\n",
    "\n",
    "# Guardar las expectativas en un archivo JSON\n",
    "expectation_suite = df_ge.get_expectation_suite(suite_name)\n",
    "\n",
    "output_file_path = \"./qa_gx/clientes/Resultado/\"+today+\"_\"+expectation_suite['expectation_suite_name']+\".json\"\n",
    "\n",
    "# Abrir el archivo en modo escritura\n",
    "with open(output_file_path, 'w') as json_file:\n",
    "    # Escribir los datos en el archivo en formato JSON\n",
    "    json.dump(expectation_suite.to_json_dict(), json_file, indent=4)  # 'indent' para formatear con sangrías\n",
    "\n",
    "# Copiar el archivo JSON al proyecto gx para usos futuros\n",
    "os.popen(\"cp ./qa_gx/clientes/Resultado/\"+today+\"_\"+expectation_suite['expectation_suite_name']+\".json ./qa_gx/gx/expectations/\"+expectation_suite['expectation_suite_name']+\".json\")\n"
   ]
  },
  {
   "cell_type": "code",
   "execution_count": 19,
   "metadata": {},
   "outputs": [],
   "source": [
    "# Consolidación de Resultados\n",
    "# =============================================================\n",
    "\n",
    "# Validar el DataFrame completo\n",
    "validation_results = df_ge.validate(\n",
    "    run_id=run_id,  # Nombre del run o ejecución \n",
    ")\n",
    "\n",
    "# Imprimir resultados\n",
    "# print(validation_results)"
   ]
  },
  {
   "cell_type": "code",
   "execution_count": 20,
   "metadata": {},
   "outputs": [
    {
     "name": "stdout",
     "output_type": "stream",
     "text": [
      "Reporte guardado en ./qa_gx/clientes/Resultado/20241021_qa_clientes_crm_1.html\n"
     ]
    }
   ],
   "source": [
    "# Renderizar el reporte\n",
    "renderer = ValidationResultsPageRenderer()\n",
    "rendered_content = renderer.render(validation_results)\n",
    "\n",
    "# Convertirlo en HTML\n",
    "html_content = DefaultJinjaPageView().render(rendered_content)\n",
    "\n",
    "# Guardar el archivo HTML\n",
    "output_path = \"./qa_gx/clientes/Resultado/\"+today+\"_qa_clientes_crm_1.html\"\n",
    "with open(output_path, \"w\") as file:\n",
    "    file.write(html_content)\n",
    "\n",
    "print(f\"Reporte guardado en {output_path}\")"
   ]
  }
 ],
 "metadata": {
  "application/vnd.databricks.v1+notebook": {
   "dashboards": [],
   "environmentMetadata": null,
   "language": "python",
   "notebookMetadata": {
    "mostRecentlyExecutedCommandWithImplicitDF": {
     "commandId": 271807052194211,
     "dataframes": [
      "_sqldf"
     ]
    },
    "pythonIndentUnit": 2
   },
   "notebookName": "02-QA_GX_Validations",
   "widgets": {
    "Ambiente": {
     "currentValue": "Desarrollo",
     "nuid": "9fccb712-c4ac-4236-b920-9ffb08f22197",
     "typedWidgetInfo": {
      "autoCreated": false,
      "defaultValue": "Desarrollo",
      "label": null,
      "name": "Ambiente",
      "options": {
       "choices": [
        "Desarrollo",
        "Produccion"
       ],
       "fixedDomain": true,
       "multiselect": false,
       "widgetDisplayType": "Dropdown"
      },
      "parameterDataType": "String"
     },
     "widgetInfo": {
      "defaultValue": "Desarrollo",
      "label": null,
      "name": "Ambiente",
      "options": {
       "autoCreated": null,
       "choices": [
        "Desarrollo",
        "Produccion"
       ],
       "widgetType": "dropdown"
      },
      "widgetType": "dropdown"
     }
    }
   }
  },
  "kernelspec": {
   "display_name": ".venv",
   "language": "python",
   "name": "python3"
  },
  "language_info": {
   "codemirror_mode": {
    "name": "ipython",
    "version": 3
   },
   "file_extension": ".py",
   "mimetype": "text/x-python",
   "name": "python",
   "nbconvert_exporter": "python",
   "pygments_lexer": "ipython3",
   "version": "3.12.3"
  }
 },
 "nbformat": 4,
 "nbformat_minor": 0
}
